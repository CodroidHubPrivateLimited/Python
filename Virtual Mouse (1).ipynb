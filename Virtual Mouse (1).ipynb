{
 "cells": [
  {
   "cell_type": "markdown",
   "id": "6131f24c",
   "metadata": {},
   "source": [
    "## Virtual Mouse"
   ]
  },
  {
   "cell_type": "markdown",
   "id": "77c9f101",
   "metadata": {},
   "source": [
    "### Import Libraries"
   ]
  },
  {
   "cell_type": "code",
   "execution_count": null,
   "id": "50578f33",
   "metadata": {},
   "outputs": [],
   "source": [
    "import cv2\n",
    "import mediapipe as mp\n",
    "import pyautogui"
   ]
  },
  {
   "cell_type": "markdown",
   "id": "a3aaa0f4",
   "metadata": {},
   "source": [
    "### Mouse Control using landmarks"
   ]
  },
  {
   "cell_type": "code",
   "execution_count": null,
   "id": "4be898b8",
   "metadata": {},
   "outputs": [],
   "source": [
    "cam = cv2.VideoCapture(0)\n",
    "face_mesh = mp.solutions.face_mesh.FaceMesh(refine_landmarks = True)\n",
    "screen_w,screen_h = pyautogui.size()\n",
    "\n",
    "while True:\n",
    "    _,frame = cam.read()\n",
    "    frame = cv2.flip(frame,1)\n",
    "    rbg_frame = cv2.cvtColor(frame,cv2.COLOR_BGR2RGB)\n",
    "    output = face_mesh.process(rbg_frame)\n",
    "    landmark_points = output.multi_face_landmarks\n",
    "    frame_h,frame_w,_ = frame.shape\n",
    "    if landmark_points:\n",
    "        landmarks = landmark_points[0].landmark\n",
    "        for id,landmark in enumerate(landmarks[474:478]):\n",
    "            # enumerate : output -id,landmarks\n",
    "            # we use enemurate because if we don't use it then it operate on all screen 4 ids/points\n",
    "            # so to avoid it we use this so by accessing id we easily move the cursor\n",
    "        \n",
    "            x = int(landmark.x*frame_w)\n",
    "            y = int(landmark.y*frame_h)\n",
    "            cv2.circle(frame,(x,y),3,(0,255,0))\n",
    "            print(id)\n",
    "            if id == 1 :\n",
    "                screen_x = screen_w/frame_w * x   # applying cursor features to entire screen\n",
    "                screen_y = screen_h/frame_h * y\n",
    "            #screen_x = int(Landmark.x* screen_w)\n",
    "             #screen_y = int(Landmark.y* screen_h)\n",
    "                pyautogui.moveTo(screen_x,screen_y)\n",
    "        main = [landmarks[145],landmarks[159]]\n",
    "        for landmark in main:\n",
    "            x = int(landmark.x * frame_w)\n",
    "            y = int(landmark.y * frame_h)\n",
    "            cv2.circle(frame,(x,y),3,(0,255,0))\n",
    "            print(main)\n",
    "        if(main[0].y - main[1].y) < 0.004:\n",
    "           # if difference of both (upper and lower) part is less than 0.004 or\n",
    "           # then execute the following code\n",
    "            pyautogui.click()\n",
    "            pyautogui.sleep(1)\n",
    "    cv2.imshow(\"Camera\",frame)\n",
    "    cv2.waitKey(1)"
   ]
  }
 ],
 "metadata": {
  "kernelspec": {
   "display_name": "Python 3 (ipykernel)",
   "language": "python",
   "name": "python3"
  },
  "language_info": {
   "codemirror_mode": {
    "name": "ipython",
    "version": 3
   },
   "file_extension": ".py",
   "mimetype": "text/x-python",
   "name": "python",
   "nbconvert_exporter": "python",
   "pygments_lexer": "ipython3",
   "version": "3.9.12"
  },
  "toc": {
   "base_numbering": 1,
   "nav_menu": {},
   "number_sections": true,
   "sideBar": true,
   "skip_h1_title": false,
   "title_cell": "Table of Contents",
   "title_sidebar": "Contents",
   "toc_cell": false,
   "toc_position": {},
   "toc_section_display": true,
   "toc_window_display": true
  }
 },
 "nbformat": 4,
 "nbformat_minor": 5
}
